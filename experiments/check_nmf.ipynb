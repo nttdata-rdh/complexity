{
 "cells": [
  {
   "cell_type": "markdown",
   "metadata": {},
   "source": [
    "# Graph settings"
   ]
  },
  {
   "cell_type": "code",
   "execution_count": null,
   "metadata": {},
   "outputs": [],
   "source": [
    "import pickle\n",
    "import numpy as np\n",
    "import matplotlib.pyplot as plt\n",
    "import seaborn as sns\n",
    "\n",
    "sns.set()\n",
    "\n",
    "red=(255/255,75/255,0/255)\n",
    "yellow=(255/255,241/255,0/255)\n",
    "green=(3/255,175/255,122/255)\n",
    "blue=(0/255,90/255,255/255)\n",
    "lightblue=(77/255,196/255,255/255)\n",
    "pink=(255/255,128/255,130/255)\n",
    "orange=(246/255,170/255,0/255)\n",
    "purple=(153/255,0/255,153/255)\n",
    "brown=(128/255,64/255,0/255)\n",
    "\n",
    "plt.rcParams[\"font.family\"]=\"serif\"\n",
    "plt.rcParams[\"font.serif\"]=[\"Times New Roman\"]+plt.rcParams[\"font.serif\"]"
   ]
  },
  {
   "cell_type": "code",
   "execution_count": null,
   "metadata": {},
   "outputs": [],
   "source": [
    "class OutputFontColor:\n",
    "    BLACK          = '\\033[30m'\n",
    "    RED            = '\\033[31m'\n",
    "    GREEN          = '\\033[32m'\n",
    "    YELLOW         = '\\033[33m'\n",
    "    BLUE           = '\\033[34m'\n",
    "    COLOR_DEFAULT  = '\\033[39m'\n",
    "    END            = '\\033[0m'"
   ]
  },
  {
   "cell_type": "markdown",
   "metadata": {},
   "source": [
    "# Data Preparation"
   ]
  },
  {
   "cell_type": "code",
   "execution_count": null,
   "metadata": {},
   "outputs": [],
   "source": [
    "x_test, y_test = np.load(\"../datasets/test/dataset_a.npz\").values()\n",
    "x_train_all, y_train_all = np.load(\"../datasets/training/dataset_a.npz\").values()\n",
    "x_train, y_train = np.load(\"../datasets/training/dataset_b.npz\").values()\n",
    "x_train_bright, y_train_bright = np.load(\"../datasets/training/dataset_c.npz\").values()\n",
    "x_train_con, y_train_con = np.load(\"../datasets/training/dataset_d.npz\").values()\n",
    "x_train_sat, y_train_sat = np.load(\"../datasets/training/dataset_e.npz\").values()\n",
    "label_name={\n",
    "    0:\"airplane\",\n",
    "    1:\"automobile\",\n",
    "    2:\"bird\",\n",
    "    3:\"cat\",\n",
    "    4:\"deer\",\n",
    "    5:\"dog\",\n",
    "    6:\"frog\",\n",
    "    7:\"horse\",\n",
    "    8:\"ship\",\n",
    "    9:\"truck\"\n",
    "}\n",
    "label_lack_pred_res = np.load(\"./pred_res/b-a.npy\")\n",
    "normal_pred_res = np.load(\"./pred_res/a-a.npy\")"
   ]
  },
  {
   "cell_type": "code",
   "execution_count": null,
   "metadata": {},
   "outputs": [],
   "source": [
    "import glob\n",
    "import os\n",
    "\n",
    "all_recon_loss = {}\n",
    "all_base_weight = {}\n",
    "\n",
    "loss_files = glob.glob(\"./results/*-*.npz\")\n",
    "for loss_file in loss_files:\n",
    "    train_name, test_name = os.path.splitext(os.path.basename(loss_file))[0].split('-')\n",
    "    if train_name not in all_recon_loss.keys():\n",
    "        all_recon_loss[train_name] = {}\n",
    "    all_recon_loss[train_name][test_name] = {k:v for k,v in np.load(loss_file).items()}\n",
    "\n",
    "loss_files = glob.glob(\"./results/?.npz\")\n",
    "for loss_file in loss_files:\n",
    "    train_name = os.path.splitext(os.path.basename(loss_file))[0]\n",
    "    all_recon_loss[train_name][\"closed\"] = {k:v for k,v in np.load(loss_file).items()}\n",
    "\n",
    "weight_files = glob.glob(\"./nmf_info/base_weight/*-*.npz\")\n",
    "for weight_file in weight_files:\n",
    "    train_name, test_name = os.path.splitext(os.path.basename(weight_file))[0].split('-')\n",
    "    if train_name not in all_base_weight.keys():\n",
    "        all_base_weight[train_name] = {}\n",
    "    all_base_weight[train_name][test_name] = {k:v for k,v in np.load(weight_file).items()}\n",
    "\n",
    "weight_files = glob.glob(\"./nmf_info/base_weight/?.npz\")\n",
    "for weight_file in weight_files:\n",
    "    train_name = os.path.splitext(os.path.basename(weight_file))[0]\n",
    "    all_base_weight[train_name][\"closed\"] = {k:v for k,v in np.load(weight_file).items()}"
   ]
  },
  {
   "cell_type": "code",
   "execution_count": null,
   "metadata": {},
   "outputs": [],
   "source": [
    "with open(\"./nmf_info/model/nmf_for_dataset_a.pkl\", mode=\"rb\") as f:\n",
    "    nmf = pickle.load(f)"
   ]
  },
  {
   "cell_type": "markdown",
   "metadata": {},
   "source": [
    "## RQ1"
   ]
  },
  {
   "cell_type": "code",
   "execution_count": null,
   "metadata": {},
   "outputs": [],
   "source": [
    "target_layer = \"activation_1\"\n",
    "base_weights = all_base_weight[\"a\"][\"closed\"][target_layer]\n"
   ]
  },
  {
   "cell_type": "code",
   "execution_count": null,
   "metadata": {},
   "outputs": [],
   "source": [
    "import random\n",
    "\n",
    "fig = plt.figure(figsize=(10, 10))\n",
    "axes = fig.subplots(nrows=10, ncols=10, subplot_kw=dict(xticks=[], yticks=[]))\n",
    "for chunk in range(5):\n",
    "    target_base_id = range(chunk*10, (chunk+1)*10)\n",
    "    for ax, base_id in zip(axes, target_base_id):\n",
    "        order = np.argsort(-base_weights[:, base_id])\n",
    "        ax[0].set_ylabel(base_id)\n",
    "        for i in range(10):\n",
    "            ax[i].imshow(x_train_all[order[i]])\n",
    "    plt.tight_layout()\n",
    "    # plt.savefig(\"figure/Base_maxim_example_actv_1_{}.pdf\".format(chunk))"
   ]
  },
  {
   "cell_type": "code",
   "execution_count": null,
   "metadata": {},
   "outputs": [],
   "source": [
    "fig = plt.figure(figsize=(10, 4.5))\n",
    "axes = fig.subplots(nrows=4, ncols=10, subplot_kw=dict(xticks=[], yticks=[]))\n",
    "target_base_id = [4,25,26,37]\n",
    "for ax, base_id in zip(axes, target_base_id):\n",
    "    order = np.argsort(-base_weights[:, base_id])\n",
    "    ax[0].set_ylabel(\"# {}\".format(base_id), size=20)\n",
    "    for i in range(10):\n",
    "        ax[i].imshow(x_train_all[order[i]])\n",
    "plt.suptitle(\"Examples with Large Weights of Certain Features [activation_1]\", size=24)\n",
    "plt.tight_layout()\n",
    "# plt.savefig(\"figure/Base_maxim_example_actv_1_rep.pdf\")"
   ]
  },
  {
   "cell_type": "code",
   "execution_count": null,
   "metadata": {},
   "outputs": [],
   "source": [
    "target_layer = \"activation_6\"\n",
    "base_weights = all_base_weight[\"a\"][\"closed\"][target_layer]"
   ]
  },
  {
   "cell_type": "code",
   "execution_count": null,
   "metadata": {},
   "outputs": [],
   "source": [
    "fig = plt.figure(figsize=(10, 3.5))\n",
    "axes = fig.subplots(nrows=3, ncols=10, subplot_kw=dict(xticks=[], yticks=[]))\n",
    "target_base_id = [19,21,46]\n",
    "for ax, base_id in zip(axes, target_base_id):\n",
    "    order = np.argsort(-base_weights[:, base_id])\n",
    "    ax[0].set_ylabel(\"# {}\".format(base_id), size=20)\n",
    "    for i in range(10):\n",
    "        ax[i].imshow(x_train_all[order[i]])\n",
    "plt.suptitle(\"Examples with Large Weights of Certain Features [activation_6]\", size=24)\n",
    "plt.tight_layout()\n",
    "# plt.savefig(\"figure/Base_maxim_example_actv_6_Horse.pdf\")"
   ]
  },
  {
   "cell_type": "markdown",
   "metadata": {},
   "source": [
    "## RQ2"
   ]
  },
  {
   "cell_type": "code",
   "execution_count": null,
   "metadata": {},
   "outputs": [],
   "source": [
    "# show Maxim Recon Loss for each class in Train\n",
    "target_layer=\"activation_6\"\n",
    "\n",
    "fig = plt.figure(figsize=(15, 15))\n",
    "unnatural={}\n",
    "unnatural[0]=[8,9]\n",
    "unnatural[1]=[1,4]\n",
    "unnatural[2]=[]\n",
    "unnatural[3]=[0]\n",
    "unnatural[4]=[1,4,8]\n",
    "unnatural[5]=[]\n",
    "unnatural[6]=[0]\n",
    "unnatural[7]=[]\n",
    "unnatural[8]=[2]\n",
    "unnatural[9]=[4,5,7,9]\n",
    "\n",
    "axes = fig.subplots(nrows=10, ncols=10, subplot_kw=dict(xticks=[], yticks=[]))\n",
    "train_recon_loss = all_recon_loss[\"a\"][\"closed\"][target_layer]\n",
    "test_recon_loss = all_recon_loss[\"a\"][\"a\"][target_layer]\n",
    "for rank, ax in enumerate(axes):\n",
    "    ax[0].set_ylabel(\"# {}\".format(rank+1), size=24)\n",
    "    for i in range(10):\n",
    "        if rank==0:\n",
    "            ax[i].set_title(label_name[i], size=24)\n",
    "        ax[i].imshow(x_train_all[y_train_all==i][np.argsort(-train_recon_loss[y_train_all==i])[rank]])\n",
    "        if rank in unnatural[i]:\n",
    "            for prop in ax[i].spines.values():\n",
    "                prop.set(ec=\"red\", lw=8)\n",
    "plt.suptitle(\"Example of Train Data with High Complexities for Each Label\", size=36)\n",
    "plt.tight_layout()"
   ]
  },
  {
   "cell_type": "code",
   "execution_count": null,
   "metadata": {},
   "outputs": [],
   "source": [
    "# following codes are used to generate randomly picked samples\n",
    "\n",
    "fig = plt.figure(figsize=(15, 75))\n",
    "\n",
    "axes = fig.subplots(nrows=50, ncols=10, subplot_kw=dict(xticks=[], yticks=[]))\n",
    "rand_idx = np.random.permutation(np.arange(0, 5000))\n",
    "for rank, ax in enumerate(axes):\n",
    "    ax[0].set_ylabel(\"# {}\".format(rank+1))\n",
    "    for i in range(10):\n",
    "        if rank==0:\n",
    "            ax[i].set_title(label_name[i], size=24)\n",
    "        ax[i].imshow(x_train_all[y_train_all==i][rand_idx[rank]])\n",
    "plt.tight_layout()\n",
    "# plt.savefig(\"figure/Example_Rand_Recon_Train.pdf\")"
   ]
  },
  {
   "cell_type": "markdown",
   "metadata": {},
   "source": [
    "## RQ3"
   ]
  },
  {
   "cell_type": "code",
   "execution_count": null,
   "metadata": {},
   "outputs": [],
   "source": [
    "target_layer=\"activation_6\"\n",
    "\n",
    "sort_order = np.argsort(all_recon_loss[\"a\"][\"a\"][target_layer])\n",
    "res_cnt = normal_pred_res[sort_order].astype(np.int64)\n",
    "res_cnt_rev = normal_pred_res[sort_order].astype(np.int64)[::-1]\n",
    "res_cnt_rand = np.random.permutation(normal_pred_res).astype(np.int64)\n",
    "for i in range(res_cnt.shape[0]-1):\n",
    "    res_cnt[i+1] += res_cnt[i]\n",
    "    res_cnt_rev[i+1] += res_cnt_rev[i]\n",
    "    res_cnt_rand[i+1] += res_cnt_rand[i]\n",
    "\n",
    "plt.figure(figsize=(5,2.5))\n",
    "plt.plot(np.arange(res_cnt.shape[0])[100:]+1, 100*res_cnt[100:]/(np.arange(res_cnt.shape[0])+1)[100:], color=lightblue, label=\"Ascending Complexities\")\n",
    "plt.plot(np.arange(res_cnt.shape[0])[100:]+1, 100*res_cnt_rev[100:]/(np.arange(res_cnt.shape[0])+1)[100:], color=pink, label=\"Decending Complexities\")\n",
    "plt.plot(np.arange(res_cnt.shape[0])[100:]+1, 100*res_cnt_rand[100:]/(np.arange(res_cnt.shape[0])+1)[100:], color=\"gray\", label=\"Random\")\n",
    "plt.legend()\n",
    "plt.title(\"Prediction Accuracy Curve\")\n",
    "plt.xlim(0,10000)\n",
    "plt.ylim(20,100)\n",
    "plt.xlabel(\"# Test Inputs\")\n",
    "plt.ylabel(\"Prediction Accuracy [%]\")\n",
    "plt.tight_layout()"
   ]
  },
  {
   "cell_type": "code",
   "execution_count": null,
   "metadata": {},
   "outputs": [],
   "source": [
    "target_layer = \"activation_6\"\n",
    "\n",
    "plt.figure(figsize=(5,3))\n",
    "plt.title(\"Proportion of Labels in Test Inputs with High Complexities\")\n",
    "\n",
    "sort_order = np.argsort(all_recon_loss[\"a\"][\"a\"][target_layer])\n",
    "hist, tick = np.histogram(y_test[sort_order][-1000:], range=(0,10))\n",
    "plt.bar(tick[:-1]-0.2, hist/10, color=green, label=\"Trained on dataset (a)\", width=0.4)\n",
    "\n",
    "sort_order = np.argsort(all_recon_loss[\"b\"][\"a\"][target_layer])\n",
    "hist, tick = np.histogram(y_test[sort_order][-1000:], range=(0,10))\n",
    "plt.bar(tick[:-1]+0.2, hist/10, color=orange, label=\"Trained on dataset (b)\", width=0.4)\n",
    "\n",
    "_, xtc = plt.xticks(np.arange(10), [*label_name.values()], rotation=30, size=8)\n",
    "xtc[3].set_color(red)\n",
    "xtc[9].set_color(red)\n",
    "plt.ylabel(\"Proportion [%]\")\n",
    "# plt.xlabel(\"Label\")\n",
    "plt.legend()\n",
    "\n",
    "plt.tight_layout()"
   ]
  },
  {
   "cell_type": "markdown",
   "metadata": {},
   "source": [
    "## RQ4"
   ]
  },
  {
   "cell_type": "code",
   "execution_count": null,
   "metadata": {},
   "outputs": [],
   "source": [
    "def bhatta (hist1,  hist2):\n",
    "    score = 0\n",
    "    for item1, item2 in zip(hist1, hist2):\n",
    "        score += np.sqrt(item1 * item2)/np.sqrt(np.sum(hist1) * np.sum(hist2))\n",
    "    return np.sqrt(1-score)\n"
   ]
  },
  {
   "cell_type": "code",
   "execution_count": null,
   "metadata": {},
   "outputs": [],
   "source": [
    "from scipy import stats\n",
    "\n",
    "def show_stats_res(target_layer):\n",
    "    print(target_layer)\n",
    "    print()\n",
    "    print(\"Train=Test\")\n",
    "    print(\"\\ta\")\n",
    "    tval, pval = stats.ttest_ind(all_recon_loss[\"a\"][\"closed\"][target_layer], all_recon_loss[\"a\"][\"a\"][target_layer], equal_var=False)\n",
    "    print(\"\\t\"+(OutputFontColor.RED if pval < 0.05 else OutputFontColor.BLUE) + str(pval) + OutputFontColor.END)\n",
    "    print(\"\\t\"+(OutputFontColor.RED if tval < 0 else OutputFontColor.BLUE) + str(tval) + OutputFontColor.END)\n",
    "    \n",
    "    print(\"\\tLabel lack\")\n",
    "    tval, pval = stats.ttest_ind(all_recon_loss[\"b\"][\"closed\"][target_layer], all_recon_loss[\"b\"][\"b\"][target_layer], equal_var=False)\n",
    "    print(\"\\t\"+(OutputFontColor.RED if pval < 0.05 else OutputFontColor.BLUE) + str(pval) + OutputFontColor.END)\n",
    "    print(\"\\t\"+(OutputFontColor.RED if tval < 0 else OutputFontColor.BLUE) + str(tval) + OutputFontColor.END)\n",
    "    \n",
    "    print(\"\\tBrightness\")\n",
    "    tval, pval = stats.ttest_ind(all_recon_loss[\"c\"][\"closed\"][target_layer], all_recon_loss[\"c\"][\"c\"][target_layer], equal_var=False)\n",
    "    print(\"\\t\"+(OutputFontColor.RED if pval < 0.05 else OutputFontColor.BLUE) + str(pval) + OutputFontColor.END)\n",
    "    print(\"\\t\"+(OutputFontColor.RED if tval < 0 else OutputFontColor.BLUE) + str(tval) + OutputFontColor.END)\n",
    "    \n",
    "    print(\"\\tContrast\")\n",
    "    tval, pval = stats.ttest_ind(all_recon_loss[\"d\"][\"closed\"][target_layer], all_recon_loss[\"d\"][\"d\"][target_layer], equal_var=False)\n",
    "    print(\"\\t\"+(OutputFontColor.RED if pval < 0.05 else OutputFontColor.BLUE) + str(pval) + OutputFontColor.END)\n",
    "    print(\"\\t\"+(OutputFontColor.RED if tval < 0 else OutputFontColor.BLUE) + str(tval) + OutputFontColor.END)\n",
    "    \n",
    "    print(\"\\tSaturation\")\n",
    "    tval, pval = stats.ttest_ind(all_recon_loss[\"e\"][\"closed\"][target_layer], all_recon_loss[\"e\"][\"e\"][target_layer], equal_var=False)\n",
    "    print(\"\\t\"+(OutputFontColor.RED if pval < 0.05 else OutputFontColor.BLUE) + str(pval) + OutputFontColor.END)\n",
    "    print(\"\\t\"+(OutputFontColor.RED if tval < 0 else OutputFontColor.BLUE) + str(tval) + OutputFontColor.END)\n",
    "    \n",
    "    \n",
    "    print(\"Train<Test\")\n",
    "    print(\"\\tLabel\")\n",
    "    tval, pval = stats.ttest_ind(all_recon_loss[\"b\"][\"closed\"][target_layer], all_recon_loss[\"b\"][\"a\"][target_layer], equal_var=False)\n",
    "    print(\"\\t\"+(OutputFontColor.RED if pval < 0.05 else OutputFontColor.BLUE) + str(pval) + OutputFontColor.END)\n",
    "    print(\"\\t\"+(OutputFontColor.RED if tval < 0 else OutputFontColor.BLUE) + str(tval) + OutputFontColor.END)\n",
    "    \n",
    "    print(\"\\tBrightness\")\n",
    "    tval, pval = stats.ttest_ind(all_recon_loss[\"a\"][\"closed\"][target_layer], all_recon_loss[\"a\"][\"c\"][target_layer], equal_var=False)\n",
    "    print(\"\\t\"+(OutputFontColor.RED if pval < 0.05 else OutputFontColor.BLUE) + str(pval) + OutputFontColor.END)\n",
    "    print(\"\\t\"+(OutputFontColor.RED if tval < 0 else OutputFontColor.BLUE) + str(tval) + OutputFontColor.END)\n",
    "    \n",
    "    print(\"\\tContrast\")\n",
    "    tval, pval = stats.ttest_ind(all_recon_loss[\"a\"][\"closed\"][target_layer], all_recon_loss[\"a\"][\"d\"][target_layer], equal_var=False)\n",
    "    print(\"\\t\"+(OutputFontColor.RED if pval < 0.05 else OutputFontColor.BLUE) + str(pval) + OutputFontColor.END)\n",
    "    print(\"\\t\"+(OutputFontColor.RED if tval < 0 else OutputFontColor.BLUE) + str(tval) + OutputFontColor.END)\n",
    "    \n",
    "    print(\"\\tSaturation\")\n",
    "    tval, pval = stats.ttest_ind(all_recon_loss[\"a\"][\"closed\"][target_layer], all_recon_loss[\"a\"][\"e\"][target_layer], equal_var=False)\n",
    "    print(\"\\t\"+(OutputFontColor.RED if pval < 0.05 else OutputFontColor.BLUE) + str(pval) + OutputFontColor.END)\n",
    "    print(\"\\t\"+(OutputFontColor.RED if tval < 0 else OutputFontColor.BLUE) + str(tval) + OutputFontColor.END)\n",
    "    \n",
    "    \n",
    "    print(\"Train>Test\")\n",
    "    print(\"\\tLabel\")\n",
    "    tval, pval = stats.ttest_ind(all_recon_loss[\"a\"][\"closed\"][target_layer], all_recon_loss[\"a\"][\"b\"][target_layer], equal_var=False)\n",
    "    print(\"\\t\"+(OutputFontColor.RED if pval < 0.05 else OutputFontColor.BLUE) + str(pval) + OutputFontColor.END)\n",
    "    print(\"\\t\"+(OutputFontColor.RED if tval < 0 else OutputFontColor.BLUE) + str(tval) + OutputFontColor.END)\n",
    "    \n",
    "    print(\"\\tBrightness\")\n",
    "    tval, pval = stats.ttest_ind(all_recon_loss[\"c\"][\"closed\"][target_layer], all_recon_loss[\"c\"][\"a\"][target_layer], equal_var=False)\n",
    "    print(\"\\t\"+(OutputFontColor.RED if pval < 0.05 else OutputFontColor.BLUE) + str(pval) + OutputFontColor.END)\n",
    "    print(\"\\t\"+(OutputFontColor.RED if tval < 0 else OutputFontColor.BLUE) + str(tval) + OutputFontColor.END)\n",
    "    \n",
    "    print(\"\\tContrast\")\n",
    "    tval, pval = stats.ttest_ind(all_recon_loss[\"d\"][\"closed\"][target_layer], all_recon_loss[\"d\"][\"a\"][target_layer], equal_var=False)\n",
    "    print(\"\\t\"+(OutputFontColor.RED if pval < 0.05 else OutputFontColor.BLUE) + str(pval) + OutputFontColor.END)\n",
    "    print(\"\\t\"+(OutputFontColor.RED if tval < 0 else OutputFontColor.BLUE) + str(tval) + OutputFontColor.END)\n",
    "    \n",
    "    print(\"\\tSaturation\")\n",
    "    tval, pval = stats.ttest_ind(all_recon_loss[\"e\"][\"closed\"][target_layer], all_recon_loss[\"e\"][\"a\"][target_layer], equal_var=False)\n",
    "    print(\"\\t\"+(OutputFontColor.RED if pval < 0.05 else OutputFontColor.BLUE) + str(pval) + OutputFontColor.END)\n",
    "    print(\"\\t\"+(OutputFontColor.RED if tval < 0 else OutputFontColor.BLUE) + str(tval) + OutputFontColor.END)\n",
    "    \n",
    "    print()\n",
    "\n",
    "for layer in all_recon_loss[\"a\"][\"closed\"].keys():\n",
    "    show_stats_res(layer)\n"
   ]
  },
  {
   "cell_type": "code",
   "execution_count": null,
   "metadata": {},
   "outputs": [],
   "source": [
    "from functools import reduce\n",
    "\n",
    "def show_hist_paper(loss_closed, *losses, fig_title=\"\", file_tag=\"\", colors=[\"blue\", \"yellow\", \"red\", \"firebrick\"], rels=[\"few test\", \"similar test\", \"few train\", \"different\"], num_bins=100, target_layers=None):\n",
    "    if target_layers is None:\n",
    "        target_layers = loss_closed.keys()\n",
    "    plt.clf()\n",
    "    fig, axes = plt.subplots(nrows=len(target_layers), ncols=len(losses), figsize=(4*len(rels),1.5*len(target_layers)), subplot_kw=dict(xticks=[], yticks=[]))\n",
    "    if len(losses) != len(colors) or len(losses) != len(rels):\n",
    "        print(\"inadequate call\")\n",
    "        return\n",
    "    \n",
    "    first_layer = True\n",
    "    for ax, l in zip(axes, target_layers):\n",
    "        vrange = (0, max(loss_closed[l].max(), reduce(max, [loss[l].max() for loss in losses])))\n",
    "        closed_hist, tick = np.histogram(loss_closed[l], bins=num_bins, density=True, range=vrange)\n",
    "        tick = (tick[1:] + tick[:-1])/2\n",
    "        ax[0].set_ylabel(l, fontsize=14)\n",
    "        for mono_ax, loss, color, rel in zip(ax, losses, colors, rels):\n",
    "            if first_layer:\n",
    "                mono_ax.set_title(rel, fontsize=20)\n",
    "            mono_ax.bar(tick, closed_hist, color=\"gray\", alpha=0.3, width=tick[1]-tick[0], label=\"Train\", lw=0)\n",
    "            hist, _ = np.histogram(loss[l], bins=num_bins, density=True, range=vrange)\n",
    "            mono_ax.bar(tick, hist, color=color, alpha=0.3, width=tick[1]-tick[0], label=\"Test\", lw=0)\n",
    "            tval, pval = stats.ttest_ind(loss_closed[l], loss[l], equal_var=False)\n",
    "            dist = bhatta(closed_hist, hist)\n",
    "            mono_ax.text(tick[-1], 0, \"dist: {:.3f}\".format(dist), ha=\"right\", va=\"bottom\", size=20, color=(red if dist > 0.04 else None))\n",
    "#             mono_ax.text(tick[-1], 0, \"$p$: {:.3f}\".format(pval), ha=\"right\", va=\"bottom\", size=10, color=(red if pval > 0.05 else None))\n",
    "            mono_ax.set_xlim(vrange)\n",
    "            mono_ax.legend(fontsize=14)\n",
    "        if first_layer:\n",
    "            first_layer=False\n",
    "\n",
    "    fig.suptitle(\"Complexity Histogram [{}]\".format(fig_title), size=20)\n",
    "    plt.tight_layout()\n",
    "    plt.savefig(\"figure/Histogram_dist_{}.pdf\".format(file_tag))\n",
    "    plt.show()\n"
   ]
  },
  {
   "cell_type": "code",
   "execution_count": null,
   "metadata": {},
   "outputs": [],
   "source": [
    "show_hist_paper(all_recon_loss[\"a\"][\"closed\"], all_recon_loss[\"a\"][\"a\"], all_recon_loss[\"a\"][\"b\"], all_recon_loss[\"a\"][\"c\"], all_recon_loss[\"a\"][\"d\"], all_recon_loss[\"a\"][\"e\"], fig_title=\"Trained on Datatset (a)\", file_tag=\"cmp_normal\", colors=[green, blue, yellow, yellow, yellow], rels=[\"Train = Test\\n[Test on Dataset (a')]\", \"Train $\\supset$ Test\\n[Test on Dataset (b')]\", \"Train $\\subset$ Test\\n[Test on Dataset(c')]\", \"Train $\\subset$ Test\\n[Test on Dataset(d')]\", \"Train $\\subset$ Test\\n[Test on Dataset(e')]\"])"
   ]
  },
  {
   "cell_type": "code",
   "execution_count": null,
   "metadata": {},
   "outputs": [],
   "source": [
    "show_hist_paper(all_recon_loss[\"a\"][\"closed\"], all_recon_loss[\"a\"][\"a\"], all_recon_loss[\"a\"][\"b\"], all_recon_loss[\"a\"][\"c\"], fig_title=\"Trained on Dataset (a)\", file_tag=\"cmp_a_for_paper\", colors=[green, blue, yellow], rels=[\"Train = Test\\n[Test on Dataset (a')]\", \"Train $\\supset$ Test\\n[Test on Dataset (b')]\", \"Train $\\subset$ Test\\n[Test on Dataset(c')]\"],  target_layers=[\"activation_1\", \"activation_3\", \"activation_5\", \"activation_7\"])"
   ]
  },
  {
   "cell_type": "code",
   "execution_count": null,
   "metadata": {},
   "outputs": [],
   "source": [
    "show_hist_paper(all_recon_loss[\"b\"][\"closed\"], all_recon_loss[\"b\"][\"b\"], all_recon_loss[\"b\"][\"a\"], fig_title=\"Trained on Dataset (b)\", file_tag=\"label_for_paper\", colors=[green, yellow], rels=[\"Train = Test\\n[Test on dataset (b')]\", \"Train $\\subset$ Test\\n[Test on dataset (a')]\"])"
   ]
  },
  {
   "cell_type": "code",
   "execution_count": null,
   "metadata": {},
   "outputs": [],
   "source": [
    "show_hist_paper(all_recon_loss[\"b\"][\"closed\"], all_recon_loss[\"b\"][\"b\"], all_recon_loss[\"b\"][\"a\"], fig_title=\"Trained on Dataset (b)\", file_tag=\"label_for_paper\", colors=[green, yellow], rels=[\"Train = Test\\n[Test on dataset (b')]\", \"Train $\\subset$ Test\\n[Test on dataset (a')]\"],  target_layers=[\"activation_1\", \"activation_3\", \"activation_5\", \"activation_7\"])"
   ]
  },
  {
   "cell_type": "code",
   "execution_count": null,
   "metadata": {},
   "outputs": [],
   "source": [
    "show_hist_paper(all_recon_loss[\"c\"][\"closed\"], all_recon_loss[\"c\"][\"c\"], all_recon_loss[\"c\"][\"a\"], fig_title=\"Trained on Dataset (c)\", file_tag=\"brightness\", colors=[green, blue], rels=[\"Train = Test\\n[Test on dataset (c')]\", \"Train $\\supset$ Test\\n[Test on dataset (a')]\"])"
   ]
  },
  {
   "cell_type": "code",
   "execution_count": null,
   "metadata": {},
   "outputs": [],
   "source": [
    "show_hist_paper(all_recon_loss[\"d\"][\"closed\"], all_recon_loss[\"d\"][\"d\"], all_recon_loss[\"d\"][\"a\"], fig_title=\"Trained on Dataset (d)\", file_tag=\"contrast\", colors=[green, blue], rels=[\"Train = Test\\n[Test on dataset (d')]\", \"Train $\\supset$ Test\\n[Test on dataset (a')]\"])"
   ]
  },
  {
   "cell_type": "code",
   "execution_count": null,
   "metadata": {},
   "outputs": [],
   "source": [
    "show_hist_paper(all_recon_loss[\"e\"][\"closed\"], all_recon_loss[\"e\"][\"e\"], all_recon_loss[\"e\"][\"a\"], fig_title=\"Trained on Dataset (e)\", file_tag=\"saturation\", colors=[green, blue], rels=[\"Train = Test\\n[Test on dataset (e')]\", \"Train $\\supset$ Test\\n[Test on dataset (a')]\"])"
   ]
  },
  {
   "cell_type": "code",
   "execution_count": null,
   "metadata": {},
   "outputs": [],
   "source": []
  }
 ],
 "metadata": {
  "kernelspec": {
   "name": "python386jvsc74a57bd078e8d63e8debb3104227054d61c242ddcec8c0e37dd0a1fb1dc55cdb8e1052cb",
   "display_name": "Python 3.8.6 64-bit ('.venv')"
  },
  "language_info": {
   "codemirror_mode": {
    "name": "ipython",
    "version": 3
   },
   "file_extension": ".py",
   "mimetype": "text/x-python",
   "name": "python",
   "nbconvert_exporter": "python",
   "pygments_lexer": "ipython3",
   "version": "3.8.6-final"
  }
 },
 "nbformat": 4,
 "nbformat_minor": 4
}